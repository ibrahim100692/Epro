{
 "cells": [
  {
   "cell_type": "markdown",
   "id": "65f6c71b-3a30-490a-b714-5ac7b84f02cb",
   "metadata": {},
   "source": [
    "## Author:\n",
    "Ibrahim Abdullahi Gaya"
   ]
  },
  {
   "cell_type": "code",
   "execution_count": null,
   "id": "d6088c06-9bf9-47fa-afb4-bfca0db7a7ea",
   "metadata": {},
   "outputs": [],
   "source": []
  }
 ],
 "metadata": {
  "kernelspec": {
   "display_name": "anaconda-ai-2024.04-py310",
   "language": "python",
   "name": "conda-env-anaconda-ai-2024.04-py310-py"
  },
  "language_info": {
   "codemirror_mode": {
    "name": "ipython",
    "version": 3
   },
   "file_extension": ".py",
   "mimetype": "text/x-python",
   "name": "python",
   "nbconvert_exporter": "python",
   "pygments_lexer": "ipython3",
   "version": "3.10.13"
  }
 },
 "nbformat": 4,
 "nbformat_minor": 5
}
